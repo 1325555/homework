import asyncio
import websockets
import RPi.GPIO as GPIO
import time

# GPIO 設置
GPIO.setmode(GPIO.BCM)
pot_pin = 18  # 可變電阻接腳
GPIO.setup(pot_pin, GPIO.IN)

# 模擬讀取可變電阻值
def read_potentiometer():
    # 模擬從 ADC 讀取值，範圍 0-1023
    return 512  # 這裡可以替換為實際的 ADC 讀取邏輯

# 映射數值到範圍
def map_value(value, in_min, in_max, out_min, out_max):
    return (value - in_min) * (out_max - out_min) // (in_max - in_min) + out_min

# WebSocket 傳輸數據
async def send_data():
    uri = "ws://localhost:8765"  # 替換為您的 WebSocket 地址
    async with websockets.connect(uri) as websocket:
        while True:
            pot_value = read_potentiometer()
            amplitude = map_value(pot_value, 0, 1023, 0, 255)
            frequency = map_value(pot_value, 0, 1023, 1, 10)
            angle = map_value(pot_value, 0, 1023, 0, 360)
            message = f"{amplitude},{frequency},{angle}"
            await websocket.send(message)
            print(f"Sent: {message}")
            time.sleep(0.1)

# 啟動 WebSocket 傳輸
asyncio.get_event_loop().run_until_complete(send_data())